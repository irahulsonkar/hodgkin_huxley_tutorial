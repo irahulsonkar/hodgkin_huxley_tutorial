{
 "cells": [
  {
   "cell_type": "markdown",
   "id": "789a1930",
   "metadata": {},
   "source": [
    "# Generic Notebook for NeuroML Models"
   ]
  },
  {
   "cell_type": "markdown",
   "id": "20c97415",
   "metadata": {},
   "source": [
    "## *Source path and filename*"
   ]
  },
  {
   "cell_type": "code",
   "execution_count": 1,
   "id": "ce7cc8dd",
   "metadata": {
    "scrolled": true
   },
   "outputs": [
    {
     "data": {
      "application/vnd.jupyter.widget-view+json": {
       "model_id": "211b9900789d4662b614e1e81be41e27",
       "version_major": 2,
       "version_minor": 0
      },
      "text/plain": [
       "HTML(value=\"<font size='+2'><i>Enter Path to NeuroML Model and LEMS filename below: </i></font>\")"
      ]
     },
     "metadata": {},
     "output_type": "display_data"
    },
    {
     "data": {
      "application/vnd.jupyter.widget-view+json": {
       "model_id": "7f088ba50afb455aa8e01f5a1b74566d",
       "version_major": 2,
       "version_minor": 0
      },
      "text/plain": [
       "interactive(children=(Text(value='../../Tutorial/Source/', description='Path:', layout=Layout(width='80%'), pl…"
      ]
     },
     "metadata": {},
     "output_type": "display_data"
    }
   ],
   "source": [
    "import ipywidgets\n",
    "import ui_widget\n",
    "from importlib.machinery import SourceFileLoader\n",
    "#%matplotlib widget\n",
    "\n",
    "#widget to read input files\n",
    "display(ui_widget.header,ui_widget.loader)"
   ]
  },
  {
   "cell_type": "code",
   "execution_count": 2,
   "id": "079c703a",
   "metadata": {
    "scrolled": false
   },
   "outputs": [
    {
     "data": {
      "application/vnd.jupyter.widget-view+json": {
       "model_id": "f1e5b8f7a7e44301943368c5eb3fac94",
       "version_major": 2,
       "version_minor": 0
      },
      "text/plain": [
       "Tab(children=(Tab(children=(Accordion(children=(VBox(children=(HBox(children=(Text(value='id', disabled=True, …"
      ]
     },
     "metadata": {},
     "output_type": "display_data"
    }
   ],
   "source": [
    "# get path and filename from above widget----------------------------------------------------#\n",
    "path2source = ui_widget.loader.result[0]\n",
    "fname_LEMS  = ui_widget.loader.result[1]\n",
    "fname_net   = ui_widget.loader.result[2]\n",
    "\n",
    "# imports the python module-----------------------------------------------------------------#\n",
    "nmlPython = SourceFileLoader(\"nml2jupyter_ver3.py\",\"nml2jupyter_ver3.py\").load_module()\n",
    "runner = nmlPython.nml2jupyter(path2source, fname_LEMS, fname_net)\n",
    "\n",
    "nml_doc=runner.loadnml()\n",
    "[info,actMem]=runner.summary_mod(nml_doc)\n",
    "#print(info)\n",
    "#runner.createGUI(actMem)\n",
    "runner.createTabs(nml_doc)"
   ]
  },
  {
   "cell_type": "code",
   "execution_count": 3,
   "id": "ca2a6a72",
   "metadata": {
    "scrolled": false
   },
   "outputs": [
    {
     "name": "stdout",
     "output_type": "stream",
     "text": [
      "----------------\n",
      "ion_channel_hhs\n",
      "----------------\n",
      "id = passiveChan\n",
      "notes = Single ion channel in NeuroML2 format: passive channel providing a leak conductance \n",
      "type = ionChannelPassive\n",
      "conductance = 10pS\n",
      "----------------\n",
      "id = naChan\n",
      "gate_hh_rates\n",
      "-> 0  loop  <class 'neuroml.nml.nml.GateHHRates'>\n",
      "instances = 3\n",
      "id = m\n",
      "forward_rate\n",
      "<class 'neuroml.nml.nml.HHRate'>\n",
      "type = HHExpLinearRate\n",
      "scale = 10mV\n",
      "rate = 1per_ms\n",
      "midpoint = -40mV\n",
      "reverse_rate\n",
      "<class 'neuroml.nml.nml.HHRate'>\n",
      "type = HHExpRate\n",
      "scale = -18mV\n",
      "rate = 4per_ms\n",
      "midpoint = -65mV\n",
      "gate_hh_rates\n",
      "-> 1  loop  <class 'neuroml.nml.nml.GateHHRates'>\n",
      "instances = 1\n",
      "id = h\n",
      "forward_rate\n",
      "<class 'neuroml.nml.nml.HHRate'>\n",
      "type = HHExpRate\n",
      "scale = -20mV\n",
      "rate = 0.07per_ms\n",
      "midpoint = -65mV\n",
      "reverse_rate\n",
      "<class 'neuroml.nml.nml.HHRate'>\n",
      "type = HHSigmoidRate\n",
      "scale = 10mV\n",
      "rate = 1per_ms\n",
      "midpoint = -35mV\n",
      "notes = Single ion channel in NeuroML2 format: standard Sodium channel from the Hodgkin Huxley model\n",
      "species = na\n",
      "conductance = 10pS\n",
      "----------------\n",
      "id = kChan\n",
      "gate_hh_rates\n",
      "-> 0  loop  <class 'neuroml.nml.nml.GateHHRates'>\n",
      "instances = 4\n",
      "id = n\n",
      "forward_rate\n",
      "<class 'neuroml.nml.nml.HHRate'>\n",
      "type = HHExpLinearRate\n",
      "scale = 10mV\n",
      "rate = 0.1per_ms\n",
      "midpoint = -55mV\n",
      "reverse_rate\n",
      "<class 'neuroml.nml.nml.HHRate'>\n",
      "type = HHExpRate\n",
      "scale = -80mV\n",
      "rate = 0.125per_ms\n",
      "midpoint = -65mV\n",
      "notes = Single ion channel in NeuroML2 format: standard Potassium channel from the Hodgkin Huxley model\n",
      "species = k\n",
      "conductance = 10pS\n",
      "----------------\n",
      "cells\n",
      "----------------\n",
      "id = hhcell\n",
      "notes = Conductance based cell model NeuroML2 format: standard Hodgkin Huxley model cell with Na, K and passive conductances\n",
      "morphology\n",
      "<class 'neuroml.nml.nml.Morphology'>\n",
      "segment_groups\n",
      "-> 0  loop  <class 'neuroml.nml.nml.SegmentGroup'>\n",
      "id = soma_group\n",
      "members\n",
      "-> 0  loop  <class 'neuroml.nml.nml.Member'>\n",
      "segments = 0\n",
      "id = morphology\n",
      "segments\n",
      "-> 0  loop  <class 'neuroml.nml.nml.Segment'>\n",
      "id = 0\n",
      "proximal\n",
      "<class 'neuroml.nml.nml.Point3DWithDiam'>\n",
      "x = 0.0\n",
      "diameter = 17.841242\n",
      "y = 0.0\n",
      "z = 0.0\n",
      "distal\n",
      "<class 'neuroml.nml.nml.Point3DWithDiam'>\n",
      "x = 0.0\n",
      "diameter = 17.841242\n",
      "y = 0.0\n",
      "z = 0.0\n",
      "name = soma\n",
      "biophysical_properties\n",
      "<class 'neuroml.nml.nml.BiophysicalProperties'>\n",
      "id = bioPhys1\n",
      "membrane_properties\n",
      "<class 'neuroml.nml.nml.MembraneProperties'>\n",
      "channel_densities\n",
      "-> 0  loop  <class 'neuroml.nml.nml.ChannelDensity'>\n",
      "ion = non_specific\n",
      "id = leak\n",
      "ion_channel = passiveChan\n",
      "cond_density = 0.3 mS_per_cm2\n",
      "erev = -54.387mV\n",
      "segment_groups = all\n",
      "channel_densities\n",
      "-> 1  loop  <class 'neuroml.nml.nml.ChannelDensity'>\n",
      "ion = na\n",
      "id = naChans\n",
      "ion_channel = naChan\n",
      "cond_density = 120.0 mS_per_cm2\n",
      "erev = 50.0 mV\n",
      "segment_groups = all\n",
      "channel_densities\n",
      "-> 2  loop  <class 'neuroml.nml.nml.ChannelDensity'>\n",
      "ion = k\n",
      "id = kChans\n",
      "ion_channel = kChan\n",
      "cond_density = 36 mS_per_cm2\n",
      "erev = -77mV\n",
      "segment_groups = all\n",
      "spike_threshes\n",
      "-> 0  loop  <class 'neuroml.nml.nml.SpikeThresh'>\n",
      "segment_groups = all\n",
      "value = -20mV\n",
      "specific_capacitances\n",
      "-> 0  loop  <class 'neuroml.nml.nml.SpecificCapacitance'>\n",
      "value = 1.0 uF_per_cm2\n",
      "segment_groups = all\n",
      "init_memb_potentials\n",
      "-> 0  loop  <class 'neuroml.nml.nml.InitMembPotential'>\n",
      "segment_groups = all\n",
      "value = -65mV\n",
      "intracellular_properties\n",
      "<class 'neuroml.nml.nml.IntracellularProperties'>\n",
      "resistivities\n",
      "-> 0  loop  <class 'neuroml.nml.nml.Resistivity'>\n",
      "value = 0.03 kohm_cm\n",
      "segment_groups = all\n",
      "----------------\n",
      "pulse_generators\n",
      "----------------\n",
      "id = pulseGen1\n",
      "delay = 100ms\n",
      "duration = 100ms\n",
      "amplitude = 0.10nA\n",
      "----------------\n",
      "id = pulseGen2\n",
      "delay = 300ms\n",
      "duration = 100ms\n",
      "amplitude = 0.35nA\n",
      "----------------\n",
      "networks\n",
      "----------------\n",
      "explicit_inputs\n",
      "-> 0  loop  <class 'neuroml.nml.nml.ExplicitInput'>\n",
      "input = pulseGen1\n",
      "target = hhpop[0]\n",
      "explicit_inputs\n",
      "-> 1  loop  <class 'neuroml.nml.nml.ExplicitInput'>\n",
      "input = pulseGen2\n",
      "target = hhpop[0]\n",
      "id = HHCellNetwork\n",
      "notes = Network with a single cell based on the Hodgkin Huxley model with 2 input currents\n",
      "populations\n",
      "-> 0  loop  <class 'neuroml.nml.nml.Population'>\n",
      "component = hhcell\n",
      "id = hhpop\n",
      "size = 1\n"
     ]
    }
   ],
   "source": [
    "def exploreMembers2(parent):\n",
    "    for member in parent.get_members():\n",
    "        attr=getattr(parent,member.get_name())\n",
    "        #explore only if its non-empty (active member)\n",
    "        if attr or attr==0:\n",
    "            #print(type(attr))\n",
    "            #found a list then loop over---------------------------------------\n",
    "            if isinstance(attr,list):\n",
    "                #print(member.get_name())\n",
    "                for i,a in enumerate(attr):\n",
    "                    print(member.get_name())\n",
    "                    print('->',i,' loop ',type(a))\n",
    "                    exploreMembers2(a)\n",
    "            #found the string print it ---------------------------------------\n",
    "            else:\n",
    "                if isinstance(attr,str) or isinstance(attr,int) or isinstance(attr,float):\n",
    "                    print(member.get_name(),'=',attr)\n",
    "                else:\n",
    "                    print(member.get_name())\n",
    "                    print(type(attr))\n",
    "                    exploreMembers2(attr)\n",
    "                #try:\n",
    "                #    exploreMembers2(attr)\n",
    "                #    print(member.get_name())\n",
    "                #except AttributeError:\n",
    "                #    print(member.get_name(),'=',attr)\n",
    "                    \n",
    "mydict=nml_doc.info(True,return_format='dict')\n",
    "for key,value in mydict.items():\n",
    "    if not value: continue\n",
    "    print('----------------')\n",
    "    print(key)\n",
    "    for val in value:\n",
    "        print('----------------')\n",
    "        exploreMembers2(val)\n",
    "\n",
    "#print(nml_doc)\n",
    "#exploreMembers2(nml_doc)"
   ]
  },
  {
   "cell_type": "code",
   "execution_count": null,
   "id": "07234d8b",
   "metadata": {},
   "outputs": [],
   "source": []
  }
 ],
 "metadata": {
  "kernelspec": {
   "display_name": "Python 3 (ipykernel)",
   "language": "python",
   "name": "python3"
  },
  "language_info": {
   "codemirror_mode": {
    "name": "ipython",
    "version": 3
   },
   "file_extension": ".py",
   "mimetype": "text/x-python",
   "name": "python",
   "nbconvert_exporter": "python",
   "pygments_lexer": "ipython3",
   "version": "3.7.6"
  }
 },
 "nbformat": 4,
 "nbformat_minor": 5
}
