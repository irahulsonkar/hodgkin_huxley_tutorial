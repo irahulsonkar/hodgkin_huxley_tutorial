{
 "cells": [
  {
   "cell_type": "markdown",
   "id": "789a1930",
   "metadata": {},
   "source": [
    "# Generic Notebook for NeuroML Models"
   ]
  },
  {
   "cell_type": "markdown",
   "id": "20c97415",
   "metadata": {},
   "source": [
    "## *Source path and filename*"
   ]
  },
  {
   "cell_type": "code",
   "execution_count": 1,
   "id": "ce7cc8dd",
   "metadata": {
    "scrolled": true
   },
   "outputs": [
    {
     "data": {
      "application/vnd.jupyter.widget-view+json": {
       "model_id": "4c6e669f0a6b4d138f77308a441b0df4",
       "version_major": 2,
       "version_minor": 0
      },
      "text/plain": [
       "HTML(value=\"<font size='+2'><i>Enter Path to NeuroML Model and LEMS filename below: </i></font>\")"
      ]
     },
     "metadata": {},
     "output_type": "display_data"
    },
    {
     "data": {
      "application/vnd.jupyter.widget-view+json": {
       "model_id": "293c56053aff40278fa970396db08741",
       "version_major": 2,
       "version_minor": 0
      },
      "text/plain": [
       "interactive(children=(Text(value='../../Tutorial/Source/', description='Path:', layout=Layout(width='80%'), pl…"
      ]
     },
     "metadata": {},
     "output_type": "display_data"
    }
   ],
   "source": [
    "import ipywidgets\n",
    "import ui_widget\n",
    "from importlib.machinery import SourceFileLoader\n",
    "%matplotlib widget\n",
    "\n",
    "#widget to read input files\n",
    "display(ui_widget.header,ui_widget.loader)"
   ]
  },
  {
   "cell_type": "markdown",
   "id": "8f2d35a3",
   "metadata": {},
   "source": [
    "## *Read NeuroML files and build dashboard*"
   ]
  },
  {
   "cell_type": "code",
   "execution_count": 2,
   "id": "079c703a",
   "metadata": {
    "scrolled": false
   },
   "outputs": [
    {
     "data": {
      "application/vnd.jupyter.widget-view+json": {
       "model_id": "678d6348f393469d88c8725cc348cadb",
       "version_major": 2,
       "version_minor": 0
      },
      "text/plain": [
       "Tab(children=(Accordion(children=(VBox(children=(HBox(children=(Text(value='id', disabled=True, layout=Layout(…"
      ]
     },
     "metadata": {},
     "output_type": "display_data"
    },
    {
     "data": {
      "application/vnd.jupyter.widget-view+json": {
       "model_id": "da8052a5518d4eadb244c029250098cf",
       "version_major": 2,
       "version_minor": 0
      },
      "text/plain": [
       "HBox(children=(Button(button_style='info', description='Update Model', style=ButtonStyle(), tooltip='Update Ne…"
      ]
     },
     "metadata": {},
     "output_type": "display_data"
    },
    {
     "data": {
      "application/vnd.jupyter.widget-view+json": {
       "model_id": "55dfd472d487479a954b6ce74368f422",
       "version_major": 2,
       "version_minor": 0
      },
      "text/plain": [
       "Output()"
      ]
     },
     "metadata": {},
     "output_type": "display_data"
    },
    {
     "data": {
      "application/vnd.jupyter.widget-view+json": {
       "model_id": "ae1d0795c53543258b0899957994d9a6",
       "version_major": 2,
       "version_minor": 0
      },
      "text/plain": [
       "Output(layout=Layout(border='1px solid'))"
      ]
     },
     "metadata": {},
     "output_type": "display_data"
    },
    {
     "data": {
      "application/vnd.jupyter.widget-view+json": {
       "model_id": "45142e563df446f492a4cdf9720fe282",
       "version_major": 2,
       "version_minor": 0
      },
      "text/plain": [
       "Button(button_style='success', description='Plot Output', style=ButtonStyle(), tooltip='Plot outputs recorded …"
      ]
     },
     "metadata": {},
     "output_type": "display_data"
    },
    {
     "data": {
      "application/vnd.jupyter.widget-view+json": {
       "model_id": "5beca78181eb44bdb8c76033426c5322",
       "version_major": 2,
       "version_minor": 0
      },
      "text/plain": [
       "Output()"
      ]
     },
     "metadata": {},
     "output_type": "display_data"
    }
   ],
   "source": [
    "# get path and filename from above widget----------------------------------------------------#\n",
    "path2source = ui_widget.loader.result[0]\n",
    "fname_LEMS  = ui_widget.loader.result[1]\n",
    "fname_net   = ui_widget.loader.result[2]\n",
    "\n",
    "# imports the python module-----------------------------------------------------------------#\n",
    "nmlPython = SourceFileLoader(\"nml2jupyter_ver3.py\",\"nml2jupyter_ver3.py\").load_module()\n",
    "runner = nmlPython.nml2jupyter(path2source, fname_LEMS, fname_net)\n",
    "\n",
    "nml_doc=runner.loadnml()\n",
    "runner.generateDashboard(nml_doc)      #create GUI with tabs and nested accordions\n",
    "#display(runner.createAccordions(nml_doc,'NML Document'))  #create only nested accordions\n",
    "runner.loadGUI(nml_doc)                #load buttons and log/plot window"
   ]
  },
  {
   "cell_type": "markdown",
   "id": "aa709aa7",
   "metadata": {},
   "source": [
    "# INFO method output"
   ]
  },
  {
   "cell_type": "code",
   "execution_count": 3,
   "id": "7989feba",
   "metadata": {},
   "outputs": [
    {
     "name": "stdout",
     "output_type": "stream",
     "text": [
      "networks = [<neuroml.nml.nml.Network object at 0x000000002181E908>]\n",
      "HHCellNetwork\n",
      "pulse_generators = [<neuroml.nml.nml.PulseGenerator object at 0x000000000A1D6888>, <neuroml.nml.nml.PulseGenerator object at 0x000000002181E8C8>]\n",
      "pulseGen1\n",
      "pulseGen2\n",
      "ion_channel_hhs = [<neuroml.nml.nml.IonChannelHH object at 0x00000000218E2788>, <neuroml.nml.nml.IonChannelHH object at 0x00000000218E6BC8>, <neuroml.nml.nml.IonChannelHH object at 0x00000000218E89C8>]\n",
      "passiveChan\n",
      "naChan\n",
      "kChan\n",
      "cells = [<neuroml.nml.nml.Cell object at 0x0000000021831448>]\n",
      "hhcell\n",
      "id = HHCellNetwork\n"
     ]
    },
    {
     "ename": "AttributeError",
     "evalue": "'str' object has no attribute 'id'",
     "output_type": "error",
     "traceback": [
      "\u001b[1;31m---------------------------------------------------------------------------\u001b[0m",
      "\u001b[1;31mAttributeError\u001b[0m                            Traceback (most recent call last)",
      "\u001b[1;32m~\\AppData\\Local\\Temp\\ipykernel_17976\\511377596.py\u001b[0m in \u001b[0;36m<module>\u001b[1;34m\u001b[0m\n\u001b[0;32m      3\u001b[0m     \u001b[0mprint\u001b[0m\u001b[1;33m(\u001b[0m\u001b[0mkey\u001b[0m\u001b[1;33m,\u001b[0m\u001b[1;34m'='\u001b[0m\u001b[1;33m,\u001b[0m\u001b[0mvalues\u001b[0m\u001b[1;33m)\u001b[0m\u001b[1;33m\u001b[0m\u001b[1;33m\u001b[0m\u001b[0m\n\u001b[0;32m      4\u001b[0m     \u001b[1;32mfor\u001b[0m \u001b[0mval\u001b[0m \u001b[1;32min\u001b[0m \u001b[0mvalues\u001b[0m\u001b[1;33m:\u001b[0m\u001b[1;33m\u001b[0m\u001b[1;33m\u001b[0m\u001b[0m\n\u001b[1;32m----> 5\u001b[1;33m         \u001b[0mprint\u001b[0m\u001b[1;33m(\u001b[0m\u001b[0mval\u001b[0m\u001b[1;33m.\u001b[0m\u001b[0mid\u001b[0m\u001b[1;33m)\u001b[0m\u001b[1;33m\u001b[0m\u001b[1;33m\u001b[0m\u001b[0m\n\u001b[0m\u001b[0;32m      6\u001b[0m \u001b[0mnml_doc\u001b[0m\u001b[1;33m.\u001b[0m\u001b[0mnetworks\u001b[0m\u001b[1;33m[\u001b[0m\u001b[1;36m0\u001b[0m\u001b[1;33m]\u001b[0m\u001b[1;33m.\u001b[0m\u001b[0mid\u001b[0m\u001b[1;33m\u001b[0m\u001b[1;33m\u001b[0m\u001b[0m\n",
      "\u001b[1;31mAttributeError\u001b[0m: 'str' object has no attribute 'id'"
     ]
    }
   ],
   "source": [
    "for key,values in nml_doc.info(True,'dict').items():\n",
    "    if values is None or (isinstance(values, list) and len(values) == 0): continue\n",
    "    print(key,'=',values)\n",
    "    for val in values:\n",
    "        print(val.id)\n",
    "nml_doc.networks[0].id"
   ]
  },
  {
   "cell_type": "markdown",
   "id": "219b7931",
   "metadata": {},
   "source": [
    "# Exploring Sub-Models"
   ]
  },
  {
   "cell_type": "code",
   "execution_count": null,
   "id": "79f7b597",
   "metadata": {},
   "outputs": [],
   "source": [
    "#runner.createGUI(nml_doc.cells[0])"
   ]
  },
  {
   "cell_type": "markdown",
   "id": "445cc58a",
   "metadata": {},
   "source": [
    "# Resource Warning (read_neuroml2_file)"
   ]
  },
  {
   "cell_type": "code",
   "execution_count": null,
   "id": "d2e06325",
   "metadata": {},
   "outputs": [],
   "source": [
    "!jupyter --version"
   ]
  },
  {
   "cell_type": "code",
   "execution_count": null,
   "id": "c1537acc",
   "metadata": {},
   "outputs": [],
   "source": [
    "#from neuroml.loaders import read_neuroml2_file\n",
    "#nml_doc= read_neuroml2_file('../../Tutorial/Source/HHCellNetwork.net.nml', include_includes=True)"
   ]
  },
  {
   "cell_type": "code",
   "execution_count": null,
   "id": "5606b49c",
   "metadata": {},
   "outputs": [],
   "source": [
    "#!jupyter --version"
   ]
  }
 ],
 "metadata": {
  "kernelspec": {
   "display_name": "Python 3 (ipykernel)",
   "language": "python",
   "name": "python3"
  },
  "language_info": {
   "codemirror_mode": {
    "name": "ipython",
    "version": 3
   },
   "file_extension": ".py",
   "mimetype": "text/x-python",
   "name": "python",
   "nbconvert_exporter": "python",
   "pygments_lexer": "ipython3",
   "version": "3.7.6"
  }
 },
 "nbformat": 4,
 "nbformat_minor": 5
}
