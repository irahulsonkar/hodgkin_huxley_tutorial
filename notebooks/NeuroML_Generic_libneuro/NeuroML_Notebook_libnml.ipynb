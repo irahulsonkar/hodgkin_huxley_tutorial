{
 "cells": [
  {
   "cell_type": "markdown",
   "id": "789a1930",
   "metadata": {},
   "source": [
    "# Generic Notebook for NeuroML Models"
   ]
  },
  {
   "cell_type": "markdown",
   "id": "20c97415",
   "metadata": {},
   "source": [
    "## *Source path and filename*"
   ]
  },
  {
   "cell_type": "code",
   "execution_count": 1,
   "id": "ce7cc8dd",
   "metadata": {
    "scrolled": true
   },
   "outputs": [
    {
     "data": {
      "application/vnd.jupyter.widget-view+json": {
       "model_id": "cc036fa874ce45bd8a8157897a084dca",
       "version_major": 2,
       "version_minor": 0
      },
      "text/plain": [
       "HTML(value=\"<font size='+2'><i>Enter Path to NeuroML Model and LEMS filename below: </i></font>\")"
      ]
     },
     "metadata": {},
     "output_type": "display_data"
    },
    {
     "data": {
      "application/vnd.jupyter.widget-view+json": {
       "model_id": "6eb7e2e747aa409aa3d1b0860aac266f",
       "version_major": 2,
       "version_minor": 0
      },
      "text/plain": [
       "interactive(children=(Text(value='../../Tutorial/Source/', description='Path:', layout=Layout(width='80%'), pl…"
      ]
     },
     "metadata": {},
     "output_type": "display_data"
    }
   ],
   "source": [
    "import ipywidgets\n",
    "import ui_widget\n",
    "from importlib.machinery import SourceFileLoader\n",
    "#%matplotlib widget\n",
    "\n",
    "#widget to read input files\n",
    "display(ui_widget.header,ui_widget.loader)"
   ]
  },
  {
   "cell_type": "code",
   "execution_count": 2,
   "id": "079c703a",
   "metadata": {
    "scrolled": false
   },
   "outputs": [
    {
     "data": {
      "application/vnd.jupyter.widget-view+json": {
       "model_id": "bb2bd6b7e86d46349a6b164f798c0395",
       "version_major": 2,
       "version_minor": 0
      },
      "text/plain": [
       "Tab(children=(VBox(children=(Accordion(children=(VBox(children=(HBox(children=(Text(value='notes', disabled=Tr…"
      ]
     },
     "metadata": {},
     "output_type": "display_data"
    }
   ],
   "source": [
    "# get path and filename from above widget----------------------------------------------------#\n",
    "path2source = ui_widget.loader.result[0]\n",
    "fname_LEMS  = ui_widget.loader.result[1]\n",
    "fname_net   = ui_widget.loader.result[2]\n",
    "\n",
    "# imports the python module-----------------------------------------------------------------#\n",
    "nmlPython = SourceFileLoader(\"nml2jupyter_ver3.py\",\"nml2jupyter_ver3.py\").load_module()\n",
    "runner = nmlPython.nml2jupyter(path2source, fname_LEMS, fname_net)\n",
    "\n",
    "nml_doc=runner.loadnml()\n",
    "[info,actMem]=runner.summary_mod(nml_doc)\n",
    "#runner.createGUI(actMem)\n",
    "runner.createTabs(nml_doc)\n",
    "#runner.createAccordions(nml_doc,'NML Document')"
   ]
  }
 ],
 "metadata": {
  "kernelspec": {
   "display_name": "Python 3 (ipykernel)",
   "language": "python",
   "name": "python3"
  },
  "language_info": {
   "codemirror_mode": {
    "name": "ipython",
    "version": 3
   },
   "file_extension": ".py",
   "mimetype": "text/x-python",
   "name": "python",
   "nbconvert_exporter": "python",
   "pygments_lexer": "ipython3",
   "version": "3.7.6"
  }
 },
 "nbformat": 4,
 "nbformat_minor": 5
}
