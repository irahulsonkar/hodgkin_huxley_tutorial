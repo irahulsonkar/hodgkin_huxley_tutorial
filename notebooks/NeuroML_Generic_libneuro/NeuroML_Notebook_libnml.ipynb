{
 "cells": [
  {
   "cell_type": "markdown",
   "id": "789a1930",
   "metadata": {},
   "source": [
    "# Generic Notebook for NeuroML Models"
   ]
  },
  {
   "cell_type": "markdown",
   "id": "20c97415",
   "metadata": {},
   "source": [
    "## *Source path and filename*"
   ]
  },
  {
   "cell_type": "code",
   "execution_count": null,
   "id": "ce7cc8dd",
   "metadata": {
    "scrolled": true
   },
   "outputs": [],
   "source": [
    "import ipywidgets\n",
    "import ui_widget\n",
    "from importlib.machinery import SourceFileLoader\n",
    "%matplotlib widget\n",
    "\n",
    "#widget to read input files\n",
    "display(ui_widget.header,ui_widget.loader)"
   ]
  },
  {
   "cell_type": "markdown",
   "id": "8f2d35a3",
   "metadata": {},
   "source": [
    "## *Read NeuroML files and build dashboard*"
   ]
  },
  {
   "cell_type": "code",
   "execution_count": null,
   "id": "079c703a",
   "metadata": {
    "scrolled": false
   },
   "outputs": [],
   "source": [
    "# get path and filename from above widget----------------------------------------------------#\n",
    "path2source = ui_widget.loader.result[0]\n",
    "fname_LEMS  = ui_widget.loader.result[1]\n",
    "fname_net   = ui_widget.loader.result[2]\n",
    "\n",
    "# imports the python module-----------------------------------------------------------------#\n",
    "nmlPython = SourceFileLoader(\"nml2jupyter_ver3.py\",\"nml2jupyter_ver3.py\").load_module()\n",
    "runner = nmlPython.nml2jupyter(path2source, fname_LEMS, fname_net)\n",
    "\n",
    "nml_doc=runner.loadnml()\n",
    "runner.generateDashboard(nml_doc)      #create GUI with tabs and nested accordions\n",
    "#display(runner.createAccordions(nml_doc,'NML Document'))  #create only nested accordions\n",
    "runner.loadGUI(nml_doc)                #load buttons and log/plot window"
   ]
  },
  {
   "cell_type": "markdown",
   "id": "aa709aa7",
   "metadata": {},
   "source": [
    "# INFO method output"
   ]
  },
  {
   "cell_type": "code",
   "execution_count": null,
   "id": "7989feba",
   "metadata": {
    "scrolled": false
   },
   "outputs": [],
   "source": [
    "#for key,values in nml_doc.info(True,'dict').items():\n",
    "#    if values['members'] is None or (isinstance(values['members'], list) and len(values['members']) == 0): continue\n",
    "#    print(key,'=',values['members'])\n"
   ]
  },
  {
   "cell_type": "markdown",
   "id": "219b7931",
   "metadata": {},
   "source": [
    "# Exploring Sub-Models"
   ]
  },
  {
   "cell_type": "code",
   "execution_count": null,
   "id": "79f7b597",
   "metadata": {},
   "outputs": [],
   "source": [
    "#runner.createAccordions(nml_doc.ComponentType[0],'test')\n",
    "nml_doc.ion_channel_kses[0].info(True)"
   ]
  },
  {
   "cell_type": "markdown",
   "id": "445cc58a",
   "metadata": {},
   "source": [
    "# Resource Warning (read_neuroml2_file)"
   ]
  },
  {
   "cell_type": "code",
   "execution_count": 4,
   "id": "d2e06325",
   "metadata": {},
   "outputs": [
    {
     "name": "stdout",
     "output_type": "stream",
     "text": [
      "Selected Jupyter core packages...\n",
      "IPython          : 7.34.0\n",
      "ipykernel        : 6.15.1\n",
      "ipywidgets       : 7.7.1\n",
      "jupyter_client   : 7.3.4\n",
      "jupyter_core     : 4.11.1\n",
      "jupyter_server   : 1.18.1\n",
      "jupyterlab       : 3.4.4\n",
      "nbclient         : 0.5.13\n",
      "nbconvert        : 6.5.0\n",
      "nbformat         : 5.4.0\n",
      "notebook         : 6.4.12\n",
      "qtconsole        : not installed\n",
      "traitlets        : 5.3.0\n"
     ]
    },
    {
     "name": "stderr",
     "output_type": "stream",
     "text": [
      "'pwd' is not recognized as an internal or external command,\n",
      "operable program or batch file.\n"
     ]
    }
   ],
   "source": [
    "!jupyter --version"
   ]
  },
  {
   "cell_type": "code",
   "execution_count": 7,
   "id": "c1537acc",
   "metadata": {},
   "outputs": [
    {
     "ename": "AttributeError",
     "evalue": "'Annotation' object has no attribute '__ANY__'",
     "output_type": "error",
     "traceback": [
      "\u001b[1;31m---------------------------------------------------------------------------\u001b[0m",
      "\u001b[1;31mAttributeError\u001b[0m                            Traceback (most recent call last)",
      "\u001b[1;32m~\\AppData\\Local\\Temp\\ipykernel_17556\\2531374878.py\u001b[0m in \u001b[0;36m<module>\u001b[1;34m\u001b[0m\n\u001b[0;32m      2\u001b[0m \u001b[0mnet_file\u001b[0m\u001b[1;33m=\u001b[0m\u001b[1;34m\"..\\\\..\\\\..\\\\Notebook_TestModels\\\\AllenInstituteNeuroML\\\\CellTypesDatabase\\\\models\\\\NeuroML2\\\\Network_486556811.net.nml\"\u001b[0m\u001b[1;33m\u001b[0m\u001b[1;33m\u001b[0m\u001b[0m\n\u001b[0;32m      3\u001b[0m \u001b[0mnml_doc\u001b[0m\u001b[1;33m=\u001b[0m\u001b[0mread_neuroml2_file\u001b[0m\u001b[1;33m(\u001b[0m\u001b[0mnet_file\u001b[0m\u001b[1;33m,\u001b[0m \u001b[0minclude_includes\u001b[0m\u001b[1;33m=\u001b[0m\u001b[1;32mTrue\u001b[0m\u001b[1;33m)\u001b[0m\u001b[1;33m\u001b[0m\u001b[1;33m\u001b[0m\u001b[0m\n\u001b[1;32m----> 4\u001b[1;33m \u001b[0mnml_doc\u001b[0m\u001b[1;33m.\u001b[0m\u001b[0mion_channel\u001b[0m\u001b[1;33m[\u001b[0m\u001b[1;36m0\u001b[0m\u001b[1;33m]\u001b[0m\u001b[1;33m.\u001b[0m\u001b[0mannotation\u001b[0m\u001b[1;33m.\u001b[0m\u001b[0minfo\u001b[0m\u001b[1;33m(\u001b[0m\u001b[1;32mTrue\u001b[0m\u001b[1;33m)\u001b[0m\u001b[1;33m\u001b[0m\u001b[1;33m\u001b[0m\u001b[0m\n\u001b[0m",
      "\u001b[1;32mc:\\program files\\python37\\lib\\site-packages\\libneuroml-0.4.1-py3.7.egg\\neuroml\\nml\\generatedssupersuper.py\u001b[0m in \u001b[0;36minfo\u001b[1;34m(self, show_contents, return_format)\u001b[0m\n\u001b[0;32m    220\u001b[0m                 \u001b[0minfo_ret\u001b[0m\u001b[1;33m[\u001b[0m\u001b[0mmember\u001b[0m\u001b[1;33m.\u001b[0m\u001b[0mget_name\u001b[0m\u001b[1;33m(\u001b[0m\u001b[1;33m)\u001b[0m\u001b[1;33m]\u001b[0m\u001b[1;33m[\u001b[0m\u001b[1;34m\"required\"\u001b[0m\u001b[1;33m]\u001b[0m \u001b[1;33m=\u001b[0m \u001b[1;32mFalse\u001b[0m \u001b[1;32mif\u001b[0m \u001b[0mmember\u001b[0m\u001b[1;33m.\u001b[0m\u001b[0mget_optional\u001b[0m\u001b[1;33m(\u001b[0m\u001b[1;33m)\u001b[0m \u001b[1;32melse\u001b[0m \u001b[1;32mTrue\u001b[0m\u001b[1;33m\u001b[0m\u001b[1;33m\u001b[0m\u001b[0m\n\u001b[0;32m    221\u001b[0m                 \u001b[0minfo_ret\u001b[0m\u001b[1;33m[\u001b[0m\u001b[0mmember\u001b[0m\u001b[1;33m.\u001b[0m\u001b[0mget_name\u001b[0m\u001b[1;33m(\u001b[0m\u001b[1;33m)\u001b[0m\u001b[1;33m]\u001b[0m\u001b[1;33m[\u001b[0m\u001b[1;34m\"type\"\u001b[0m\u001b[1;33m]\u001b[0m \u001b[1;33m=\u001b[0m \u001b[0mmember\u001b[0m\u001b[1;33m.\u001b[0m\u001b[0mget_data_type\u001b[0m\u001b[1;33m(\u001b[0m\u001b[1;33m)\u001b[0m\u001b[1;33m\u001b[0m\u001b[1;33m\u001b[0m\u001b[0m\n\u001b[1;32m--> 222\u001b[1;33m                 \u001b[0mcontents\u001b[0m \u001b[1;33m=\u001b[0m \u001b[0mgetattr\u001b[0m\u001b[1;33m(\u001b[0m\u001b[0mself\u001b[0m\u001b[1;33m,\u001b[0m \u001b[0mmember\u001b[0m\u001b[1;33m.\u001b[0m\u001b[0mget_name\u001b[0m\u001b[1;33m(\u001b[0m\u001b[1;33m)\u001b[0m\u001b[1;33m)\u001b[0m\u001b[1;33m\u001b[0m\u001b[1;33m\u001b[0m\u001b[0m\n\u001b[0m\u001b[0;32m    223\u001b[0m                 \u001b[1;31m# check if the member is set to None\u001b[0m\u001b[1;33m\u001b[0m\u001b[1;33m\u001b[0m\u001b[1;33m\u001b[0m\u001b[0m\n\u001b[0;32m    224\u001b[0m                 \u001b[1;31m# if it's a container (list), it will not be set to None, it\u001b[0m\u001b[1;33m\u001b[0m\u001b[1;33m\u001b[0m\u001b[1;33m\u001b[0m\u001b[0m\n",
      "\u001b[1;31mAttributeError\u001b[0m: 'Annotation' object has no attribute '__ANY__'"
     ]
    }
   ],
   "source": [
    "from neuroml.loaders import read_neuroml2_file\n",
    "net_file=\"..\\\\..\\\\..\\\\Notebook_TestModels\\\\AllenInstituteNeuroML\\\\CellTypesDatabase\\\\models\\\\NeuroML2\\\\Network_486556811.net.nml\"\n",
    "nml_doc=read_neuroml2_file(net_file, include_includes=True)\n",
    "nml_doc.ion_channel[0].annotation.info(True)"
   ]
  },
  {
   "cell_type": "code",
   "execution_count": null,
   "id": "5606b49c",
   "metadata": {},
   "outputs": [],
   "source": [
    "#!jupyter --version"
   ]
  }
 ],
 "metadata": {
  "kernelspec": {
   "display_name": "Python 3 (ipykernel)",
   "language": "python",
   "name": "python3"
  },
  "language_info": {
   "codemirror_mode": {
    "name": "ipython",
    "version": 3
   },
   "file_extension": ".py",
   "mimetype": "text/x-python",
   "name": "python",
   "nbconvert_exporter": "python",
   "pygments_lexer": "ipython3",
   "version": "3.7.6"
  }
 },
 "nbformat": 4,
 "nbformat_minor": 5
}
