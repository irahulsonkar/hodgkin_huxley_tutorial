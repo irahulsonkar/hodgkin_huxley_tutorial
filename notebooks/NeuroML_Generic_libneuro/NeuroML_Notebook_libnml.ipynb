{
 "cells": [
  {
   "cell_type": "markdown",
   "id": "789a1930",
   "metadata": {},
   "source": [
    "# Generic Notebook for NeuroML Models"
   ]
  },
  {
   "cell_type": "markdown",
   "id": "20c97415",
   "metadata": {},
   "source": [
    "## *Source path and filename*"
   ]
  },
  {
   "cell_type": "code",
   "execution_count": 1,
   "id": "ce7cc8dd",
   "metadata": {
    "scrolled": true
   },
   "outputs": [
    {
     "data": {
      "application/vnd.jupyter.widget-view+json": {
       "model_id": "7243651cd5a04ccc8a17cb14e6758aa7",
       "version_major": 2,
       "version_minor": 0
      },
      "text/plain": [
       "HTML(value=\"<font size='+2'><i>Enter Path to NeuroML Model and LEMS filename below: </i></font>\")"
      ]
     },
     "metadata": {},
     "output_type": "display_data"
    },
    {
     "data": {
      "application/vnd.jupyter.widget-view+json": {
       "model_id": "04dd5a7e3c5b4deebf307a0100770208",
       "version_major": 2,
       "version_minor": 0
      },
      "text/plain": [
       "interactive(children=(Text(value='../../Tutorial/Source/', description='Path:', layout=Layout(width='80%'), pl…"
      ]
     },
     "metadata": {},
     "output_type": "display_data"
    }
   ],
   "source": [
    "import ipywidgets\n",
    "import ui_widget\n",
    "from importlib.machinery import SourceFileLoader\n",
    "#%matplotlib widget\n",
    "\n",
    "#widget to read input files\n",
    "display(ui_widget.header,ui_widget.loader)"
   ]
  },
  {
   "cell_type": "code",
   "execution_count": 2,
   "id": "079c703a",
   "metadata": {
    "scrolled": false
   },
   "outputs": [
    {
     "data": {
      "application/vnd.jupyter.widget-view+json": {
       "model_id": "170208f95117492fa6fceb711eaf97f8",
       "version_major": 2,
       "version_minor": 0
      },
      "text/plain": [
       "Accordion(children=(VBox(children=(HBox(children=(Text(value='id', disabled=True, layout=Layout(width='10%')),…"
      ]
     },
     "metadata": {},
     "output_type": "display_data"
    }
   ],
   "source": [
    "# get path and filename from above widget----------------------------------------------------#\n",
    "path2source = ui_widget.loader.result[0]\n",
    "fname_LEMS  = ui_widget.loader.result[1]\n",
    "fname_net   = ui_widget.loader.result[2]\n",
    "\n",
    "# imports the python module-----------------------------------------------------------------#\n",
    "nmlPython = SourceFileLoader(\"nml2jupyter_ver3.py\",\"nml2jupyter_ver3.py\").load_module()\n",
    "runner = nmlPython.nml2jupyter(path2source, fname_LEMS, fname_net)\n",
    "\n",
    "nml_doc=runner.loadnml()\n",
    "[info,actMem]=runner.summary_mod(nml_doc)\n",
    "#runner.createGUI(actMem)\n",
    "#runner.createTabs(nml_doc)\n",
    "runner.createAccordions(nml_doc,'NML Document')\n"
   ]
  }
 ],
 "metadata": {
  "kernelspec": {
   "display_name": "Python 3 (ipykernel)",
   "language": "python",
   "name": "python3"
  },
  "language_info": {
   "codemirror_mode": {
    "name": "ipython",
    "version": 3
   },
   "file_extension": ".py",
   "mimetype": "text/x-python",
   "name": "python",
   "nbconvert_exporter": "python",
   "pygments_lexer": "ipython3",
   "version": "3.7.6"
  }
 },
 "nbformat": 4,
 "nbformat_minor": 5
}
