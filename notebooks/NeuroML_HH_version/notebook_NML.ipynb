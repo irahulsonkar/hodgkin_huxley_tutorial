{
 "cells": [
  {
   "cell_type": "markdown",
   "metadata": {},
   "source": [
    "# NeuroML model (HH) in Jupyter Notebook "
   ]
  },
  {
   "cell_type": "markdown",
   "metadata": {
    "tags": []
   },
   "source": [
    "## *Source path and filenames for NeuroML Model*"
   ]
  },
  {
   "cell_type": "code",
   "execution_count": 1,
   "metadata": {},
   "outputs": [],
   "source": [
    "import os\n",
    "import ipywidgets\n",
    "import ui_widget\n",
    "from importlib.machinery import SourceFileLoader\n",
    "\n",
    "#path for source directory to read, write and execute NeuroML--------------------------------------------#\n",
    "path2source = \"../../Tutorial/Source/\"\n",
    "\n",
    "#filenames for NeuroML file under above direcotry--------------------------------------------------------#\n",
    "fname_cellNML    = \"hhcell.cell.nml\"\n",
    "fname_netNML     = \"HHCellNetwork.net.nml\"\n",
    "fname_LEMS       = \"LEMS_HH_Simulation.xml\"\n",
    "fname_NML_output = \"hh_forJupyterNotebook.dat\"\n",
    "\n",
    "# imports the module from the given path-----------------------------------------------------------------#\n",
    "nmlPython = SourceFileLoader(\"nml2jupyter.py\",\"nml2jupyter.py\").load_module()\n",
    "runner = nmlPython.nml2jupyter(path2source, fname_cellNML, fname_netNML, fname_LEMS, fname_NML_output)"
   ]
  },
  {
   "cell_type": "markdown",
   "metadata": {
    "jp-MarkdownHeadingCollapsed": true,
    "tags": []
   },
   "source": [
    "## *Functions from python class to interact with NeuroML Model*"
   ]
  },
  {
   "cell_type": "code",
   "execution_count": 2,
   "metadata": {},
   "outputs": [],
   "source": [
    "#function to write inputs for NeuroML--------------------------------------------------------------------#\n",
    "def writeInputs(C_m, g_Na, g_K, g_L, E_Na, E_K, E_L, t_0, t_n, delta_t, I_inj_max, I_inj_width, I_inj_trans):\n",
    "    ui_widget.highlight_slider()\n",
    "    runner.writeNMLinputFile(C_m, g_Na, g_K, g_L, E_Na, E_K, E_L, t_0, t_n, delta_t, I_inj_max, I_inj_width, I_inj_trans)\n",
    "    #write nml files using slider inputs\n",
    "    \n",
    "#function to run NeuroML with given inputs and plot results----------------------------------------------#\n",
    "def runNMLmodel(b):\n",
    "    out_log.clear_output()\n",
    "    out_plot.clear_output()\n",
    "    #run neuroML (write output in dat file)\n",
    "    with out_log:\n",
    "        LEMSoption=\" -nogui\"\n",
    "        LEMS=os.path.join(path2source, fname_LEMS, LEMSoption)\n",
    "        !pynml $LEMS\n",
    "        \n",
    "    #load dat file and plot\n",
    "    with out_plot:\n",
    "        runner.plotData()"
   ]
  },
  {
   "cell_type": "markdown",
   "metadata": {
    "tags": []
   },
   "source": [
    "## *Set-up widgets and interact with NeuroML Model via Python Class*"
   ]
  },
  {
   "cell_type": "code",
   "execution_count": 3,
   "metadata": {},
   "outputs": [
    {
     "data": {
      "application/vnd.jupyter.widget-view+json": {
       "model_id": "56f25cc07cc547598f20dd442011e1a8",
       "version_major": 2,
       "version_minor": 0
      },
      "text/plain": [
       "VBox(children=(HBox(children=(HTMLMath(value='<b> Membrane Capacitance, \\\\(\\\\mu{F}/cm^2\\\\)</b>'),)), HBox(chil…"
      ]
     },
     "metadata": {},
     "output_type": "display_data"
    },
    {
     "data": {
      "application/vnd.jupyter.widget-view+json": {
       "model_id": "2e5181bb6a7646bf97058f13c9bbdfa0",
       "version_major": 2,
       "version_minor": 0
      },
      "text/plain": [
       "Output()"
      ]
     },
     "metadata": {},
     "output_type": "display_data"
    },
    {
     "data": {
      "application/vnd.jupyter.widget-view+json": {
       "model_id": "1a40340de3504364a04831558f86e1a0",
       "version_major": 2,
       "version_minor": 0
      },
      "text/plain": [
       "Button(button_style='success', description='Run NeuroML', style=ButtonStyle(), tooltip='Execute NeuroML Model …"
      ]
     },
     "metadata": {},
     "output_type": "display_data"
    },
    {
     "data": {
      "application/vnd.jupyter.widget-view+json": {
       "model_id": "d8233127942e4282bfbcba292421d030",
       "version_major": 2,
       "version_minor": 0
      },
      "text/plain": [
       "Output(layout=Layout(border='1px solid'))"
      ]
     },
     "metadata": {},
     "output_type": "display_data"
    },
    {
     "data": {
      "application/vnd.jupyter.widget-view+json": {
       "model_id": "14dbd98dc751442db3530e7aee0d9410",
       "version_major": 2,
       "version_minor": 0
      },
      "text/plain": [
       "Output()"
      ]
     },
     "metadata": {},
     "output_type": "display_data"
    }
   ],
   "source": [
    "#define and connect run button for NeuroML-----------------------------------------------------------------#\n",
    "ui_widget.run_button.on_click(runNMLmodel)\n",
    "out_log = ipywidgets.Output(layout={'border': '1px solid'}) #for displaying output log from NeuroMl execution\n",
    "out_plot = ipywidgets.Output()                              #for displaying plots    \n",
    "\n",
    "#create input widget and call writeInputs to generate/update NeuroML files---------------------------------#\n",
    "wid_inputs=ipywidgets.interactive_output(writeInputs,{'C_m':ui_widget.slider_capacitance,\n",
    "                                        'g_Na':ui_widget.slider_cond_Na, 'g_K':ui_widget.slider_cond_K, 'g_L':ui_widget.slider_cond_L, \n",
    "                                        'E_Na':ui_widget.slider_pot_Na, 'E_K':ui_widget.slider_pot_K, 'E_L':ui_widget.slider_pot_L,\n",
    "                                        't_0':ui_widget.time_start, 't_n':ui_widget.time_end, 'delta_t':ui_widget.time_step, \n",
    "                                        'I_inj_max':ui_widget.slider_amplitude,'I_inj_width':ui_widget.slider_width,'I_inj_trans':ui_widget.slider_translation})\n",
    "\n",
    "#display all the widgets and button outputs----------------------------------------------------------------#\n",
    "display(ui_widget.modelInputs,wid_inputs,ui_widget.run_button,out_log,out_plot)"
   ]
  }
 ],
 "metadata": {
  "kernelspec": {
   "display_name": "Python 3 (ipykernel)",
   "language": "python",
   "name": "python3"
  },
  "language_info": {
   "codemirror_mode": {
    "name": "ipython",
    "version": 3
   },
   "file_extension": ".py",
   "mimetype": "text/x-python",
   "name": "python",
   "nbconvert_exporter": "python",
   "pygments_lexer": "ipython3",
   "version": "3.9.7"
  }
 },
 "nbformat": 4,
 "nbformat_minor": 4
}
