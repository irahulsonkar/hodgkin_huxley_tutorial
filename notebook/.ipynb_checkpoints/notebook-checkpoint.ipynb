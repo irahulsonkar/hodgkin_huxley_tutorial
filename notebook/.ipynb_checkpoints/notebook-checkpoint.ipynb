{
 "cells": [
  {
   "cell_type": "markdown",
   "metadata": {
    "tags": []
   },
   "source": [
    "# Interactive Tutorial for Hodgkin Huxley Model on Juypter Lab"
   ]
  },
  {
   "cell_type": "markdown",
   "metadata": {},
   "source": [
    "<font size=\"5\">HH Model for Single Neuron</font>"
   ]
  },
  {
   "cell_type": "markdown",
   "metadata": {},
   "source": [
    "This model relies on a basic equivalence between a biological membrane plus embedded ion channels, and an electrical circuit.\n",
    "\n",
    "<font size=\"5\">Basic inputs to the Model</font>\n",
    "\n",
    "1) Membrane capacitance, uF/cm^2\n",
    "2) Maximum Conductances, mS/cm^2\n",
    "3) Nernst Reverasal Potentials, mV\n",
    "4) Simulation Parameters (time), ms\n",
    "\n",
    "<img src=\"equivalentCircuit.PNG\" width=\"500\"/>\n"
   ]
  },
  {
   "cell_type": "markdown",
   "metadata": {},
   "source": [
    "<font size=\"5\">Execute Hodgkin Huxley Model</font>"
   ]
  },
  {
   "cell_type": "code",
   "execution_count": 11,
   "metadata": {},
   "outputs": [
    {
     "data": {
      "application/vnd.jupyter.widget-view+json": {
       "model_id": "544d4e30f0e54eeda92d4fb7a3c53d7a",
       "version_major": 2,
       "version_minor": 0
      },
      "text/plain": [
       "VBox(children=(HBox(children=(HTML(value=\"<b><font color='blue'>Membrane Capacitance, uF/cm^2</b>\"),)), HBox(c…"
      ]
     },
     "metadata": {},
     "output_type": "display_data"
    },
    {
     "data": {
      "application/vnd.jupyter.widget-view+json": {
       "model_id": "0261eb17cf364d8998d2f37d974812a3",
       "version_major": 2,
       "version_minor": 0
      },
      "text/plain": [
       "Output()"
      ]
     },
     "metadata": {},
     "output_type": "display_data"
    }
   ],
   "source": [
    "import ipywidgets\n",
    "import ui_widget\n",
    "from importlib.machinery import SourceFileLoader\n",
    "  \n",
    "# imports the module from the given path\n",
    "HHmodel = SourceFileLoader(\"HodgkinHuxley.py\",\"../Tutorial/Source/HodgkinHuxley.py\").load_module()\n",
    "\n",
    "def runHH(C_m, g_Na, g_K, g_L, E_Na, E_K, E_L, t_0, t_n, delta_t):\n",
    "    #t = np.arange(t_0, t_n, delta_t)\n",
    "    runner = HHmodel.HodgkinHuxley(C_m, g_Na, g_K, g_L, E_Na, E_K, E_L, t_0, t_n, delta_t)\n",
    "    runner.Main()\n",
    "    \n",
    "w1=ipywidgets.interactive_output(runHH,{'C_m':ui_widget.slider_capacitance,\n",
    "                                        'g_Na':ui_widget.slider_cond_Na, 'g_K':ui_widget.slider_cond_K, 'g_L':ui_widget.slider_cond_L, \n",
    "                                        'E_Na':ui_widget.slider_pot_Na, 'E_K':ui_widget.slider_pot_K, 'E_L':ui_widget.slider_pot_L,\n",
    "                                        't_0':ui_widget.time_start, 't_n':ui_widget.time_end, 'delta_t':ui_widget.time_step})\n",
    "\n",
    "ui_widget.v1\n",
    "display(ui_widget.v1,w1)"
   ]
  },
  {
   "cell_type": "markdown",
   "metadata": {},
   "source": [
    "<font size=\"5\">Description of the Plots</font>"
   ]
  },
  {
   "cell_type": "markdown",
   "metadata": {},
   "source": [
    "1) Starting from the bottom, the first (bottom-most) plot shows two currents injected into the cell membrane at times 100ms and 300ms.\n",
    "2) The second plot from the bottom shows the activation/inactivation parameters of the ion channels in the neuron. \n",
    "3) Third plot from the bottom (the current/time plot) makes this more concrete, showing the influx (negative y-axis) and outflux (positive y-axis) of ions passing through each type of ion channel being modeled.\n",
    "4) The top plot, which shows neural membrane voltage activity. The spikes here are called “action potentials” and correspond directly to the current/time plot. "
   ]
  },
  {
   "cell_type": "markdown",
   "metadata": {},
   "source": [
    "<font size=\"5\">Advanced Inputs - Injection Current</font>"
   ]
  },
  {
   "cell_type": "code",
   "execution_count": 2,
   "metadata": {},
   "outputs": [
    {
     "data": {
      "application/vnd.jupyter.widget-view+json": {
       "model_id": "f9ab28397cb244dbab2085294792dc4b",
       "version_major": 2,
       "version_minor": 0
      },
      "text/plain": [
       "interactive(children=(IntSlider(value=10, description='amplidute', min=-100), IntSlider(value=100, description…"
      ]
     },
     "metadata": {},
     "output_type": "display_data"
    }
   ],
   "source": [
    "import sympy\n",
    "import matplotlib.pyplot as plt\n",
    "from ipywidgets import interact\n",
    "sympy.init_printing()\n",
    "%matplotlib inline\n",
    "\n",
    "t = sympy.symbols('t')\n",
    "S = sympy.Heaviside\n",
    "\n",
    "def injectorCurrent(amplidute=10, t_width=100, t_translation=100):\n",
    "    s1 = amplidute*S(t - 0 - t_translation)\n",
    "    s2 = amplidute*S(t - t_width - t_translation) \n",
    "    I_inj = (s1 - s2)\n",
    "    sympy.plot(I_inj, (t, 0, 450, 0.01))\n",
    "    \n",
    "w=interact(injectorCurrent,\n",
    "         amplidute=(-100,100),\n",
    "         t_width=(0,100),\n",
    "         t_translation=(0,450));"
   ]
  },
  {
   "cell_type": "code",
   "execution_count": null,
   "metadata": {},
   "outputs": [],
   "source": []
  }
 ],
 "metadata": {
  "kernelspec": {
   "display_name": "Python 3 (ipykernel)",
   "language": "python",
   "name": "python3"
  },
  "language_info": {
   "codemirror_mode": {
    "name": "ipython",
    "version": 3
   },
   "file_extension": ".py",
   "mimetype": "text/x-python",
   "name": "python",
   "nbconvert_exporter": "python",
   "pygments_lexer": "ipython3",
   "version": "3.9.7"
  }
 },
 "nbformat": 4,
 "nbformat_minor": 4
}
