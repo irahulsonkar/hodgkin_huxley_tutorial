{
 "cells": [
  {
   "cell_type": "markdown",
   "metadata": {
    "tags": []
   },
   "source": [
    "# Interactive Tutorial for Hodgkin Huxley Model on Juypter Lab"
   ]
  },
  {
   "cell_type": "markdown",
   "metadata": {},
   "source": [
    "<font size=\"5\">HH Model for Single Neuron</font>"
   ]
  },
  {
   "cell_type": "markdown",
   "metadata": {},
   "source": [
    "This model relies on a basic equivalence between a biological membrane plus embedded ion channels, and an electrical circuit.\n",
    "\n",
    "<font size=\"5\">Basic inputs to the Model</font>\n",
    "\n",
    "1) Membrane capacitance, $\\mu{A}/cm^2$\n",
    "2) Maximum Conductances, $mS/cm^2$\n",
    "3) Nernst Reverasal Potentials, $mV$\n",
    "4) Simulation Parameters (time), $ms$\n",
    "\n",
    "<img src=\"equivalentCircuit.PNG\" width=\"500\"/>\n"
   ]
  },
  {
   "cell_type": "markdown",
   "metadata": {},
   "source": [
    "<font size=\"5\">Execute Hodgkin Huxley Model</font>"
   ]
  },
  {
   "cell_type": "code",
   "execution_count": 1,
   "metadata": {},
   "outputs": [
    {
     "data": {
      "application/vnd.jupyter.widget-view+json": {
       "model_id": "0069befeceae4a93a70e238bd4db6770",
       "version_major": 2,
       "version_minor": 0
      },
      "text/plain": [
       "VBox(children=(HBox(children=(HTML(value=\"<b><font color='blue'>Membrane Capacitance, uF/cm^2</b>\"),)), HBox(c…"
      ]
     },
     "metadata": {},
     "output_type": "display_data"
    },
    {
     "data": {
      "application/vnd.jupyter.widget-view+json": {
       "model_id": "f778c8dc95a342e3a889af3c1ce47463",
       "version_major": 2,
       "version_minor": 0
      },
      "text/plain": [
       "interactive(children=(Checkbox(value=False, description=\"<b><font color='blue'>Advanced Input - Incjection Cur…"
      ]
     },
     "metadata": {},
     "output_type": "display_data"
    }
   ],
   "source": [
    "import ipywidgets\n",
    "import ui_widget\n",
    "from importlib.machinery import SourceFileLoader\n",
    "import numpy as np\n",
    "import matplotlib.pyplot as plt\n",
    "  \n",
    "# imports the module from the given path\n",
    "HHmodel = SourceFileLoader(\"HodgkinHuxley.py\",\"../Tutorial/Source/HodgkinHuxley.py\").load_module()\n",
    "\n",
    "#function to call python script as a module\n",
    "def runHH(C_m, g_Na, g_K, g_L, E_Na, E_K, E_L, t_0, t_n, delta_t, I_inj_max, I_inj_width, I_inj_trans):\n",
    "    runner = HHmodel.HodgkinHuxley(C_m, g_Na, g_K, g_L, E_Na, E_K, E_L, t_0, t_n, delta_t, I_inj_max, I_inj_width, I_inj_trans)\n",
    "    runner.Main()\n",
    "\n",
    "#function to handle checkbox event\n",
    "def checkboxEvent(checkboxStatus):\n",
    "    if checkboxStatus:\n",
    "        wid_inj=ipywidgets.interact(ui_widget.injectorCurrent,amplidute=ui_widget.slider_amplitude,t_width=ui_widget.slider_width,t_translation=ui_widget.slider_translation);\n",
    "        display(wid_plotArea)\n",
    "    else:\n",
    "        display(wid_plotArea)\n",
    "\n",
    "#create checkbox widget\n",
    "wid_checkbox=ipywidgets.interactive(checkboxEvent,checkboxStatus=ui_widget.cb);\n",
    "\n",
    "#create plot area widget and interact with HHmodel\n",
    "wid_plotArea=ipywidgets.interactive_output(runHH,{'C_m':ui_widget.slider_capacitance,\n",
    "                                        'g_Na':ui_widget.slider_cond_Na, 'g_K':ui_widget.slider_cond_K, 'g_L':ui_widget.slider_cond_L, \n",
    "                                        'E_Na':ui_widget.slider_pot_Na, 'E_K':ui_widget.slider_pot_K, 'E_L':ui_widget.slider_pot_L,\n",
    "                                        't_0':ui_widget.time_start, 't_n':ui_widget.time_end, 'delta_t':ui_widget.time_step, \n",
    "                                        'I_inj_max':ui_widget.slider_amplitude,'I_inj_width':ui_widget.slider_width,'I_inj_trans':ui_widget.slider_translation})\n",
    "  \n",
    "display(ui_widget.basicInputs,wid_checkbox)"
   ]
  },
  {
   "cell_type": "markdown",
   "metadata": {},
   "source": [
    "<font size=\"5\">Description of the Plots</font>"
   ]
  },
  {
   "cell_type": "markdown",
   "metadata": {},
   "source": [
    "1) Starting from the bottom, the first (bottom-most) plot shows two currents injected into the cell membrane at times 100ms and 300ms.\n",
    "2) The second plot from the bottom shows the activation/inactivation parameters of the ion channels in the neuron. \n",
    "3) Third plot from the bottom (the current/time plot) makes this more concrete, showing the influx (negative y-axis) and outflux (positive y-axis) of ions passing through each type of ion channel being modeled.\n",
    "4) The top plot, which shows neural membrane voltage activity. The spikes here are called “action potentials” and correspond directly to the current/time plot. "
   ]
  }
 ],
 "metadata": {
  "kernelspec": {
   "display_name": "Python 3 (ipykernel)",
   "language": "python",
   "name": "python3"
  },
  "language_info": {
   "codemirror_mode": {
    "name": "ipython",
    "version": 3
   },
   "file_extension": ".py",
   "mimetype": "text/x-python",
   "name": "python",
   "nbconvert_exporter": "python",
   "pygments_lexer": "ipython3",
   "version": "3.9.7"
  }
 },
 "nbformat": 4,
 "nbformat_minor": 4
}
