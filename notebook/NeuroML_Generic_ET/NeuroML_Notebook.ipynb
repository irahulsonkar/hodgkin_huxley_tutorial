{
 "cells": [
  {
   "cell_type": "markdown",
   "id": "5d475da2-ff82-40d5-8809-4804ee5973a9",
   "metadata": {},
   "source": [
    "# Generic Notebook for NeuroML Models"
   ]
  },
  {
   "cell_type": "markdown",
   "id": "2ea359be-5028-45d5-8944-2e73df46036b",
   "metadata": {
    "tags": []
   },
   "source": [
    "## *Source path and filenames*"
   ]
  },
  {
   "cell_type": "code",
   "execution_count": 1,
   "id": "d35178bf-2df3-42ab-be25-975d6ffa68c3",
   "metadata": {},
   "outputs": [],
   "source": [
    "import os\n",
    "import ipywidgets\n",
    "import ui_widget\n",
    "from importlib.machinery import SourceFileLoader\n",
    "import xml.etree.ElementTree as ET\n",
    "\n",
    "#path for source directory to read, write and execute NeuroML--------------------------------------------#\n",
    "path2source = \"../../Tutorial/Source/\"\n",
    "\n",
    "#filenames for NeuroML file under above direcotry--------------------------------------------------------#\n",
    "fname_LEMS       = \"LEMS_HH_Simulation.xml\"\n",
    "\n",
    "fname_NML_output = \"hh_forJupyterNotebook.dat\""
   ]
  },
  {
   "cell_type": "markdown",
   "id": "a4956041-c21f-40ea-ab03-3cc19ac2a498",
   "metadata": {
    "tags": []
   },
   "source": [
    "## *Parse NML files and build basic dashboard*"
   ]
  },
  {
   "cell_type": "code",
   "execution_count": 2,
   "id": "5f912104-c914-4f01-a3f4-2c9f01707b55",
   "metadata": {},
   "outputs": [
    {
     "data": {
      "application/vnd.jupyter.widget-view+json": {
       "model_id": "c59db06fcb564b39ab6bb5b6c30c1458",
       "version_major": 2,
       "version_minor": 0
      },
      "text/plain": [
       "Tab(children=(Accordion(children=(VBox(children=(HBox(children=(Text(value='component', disabled=True, layout=…"
      ]
     },
     "metadata": {},
     "output_type": "display_data"
    },
    {
     "data": {
      "application/vnd.jupyter.widget-view+json": {
       "model_id": "12798cee5cf14c9db65b27cdfadbea63",
       "version_major": 2,
       "version_minor": 0
      },
      "text/plain": [
       "Button(button_style='success', description='Run NeuroML', style=ButtonStyle(), tooltip='Execute NeuroML Model …"
      ]
     },
     "metadata": {},
     "output_type": "display_data"
    },
    {
     "data": {
      "application/vnd.jupyter.widget-view+json": {
       "model_id": "0ad989714d1b4c289b05ffedc02be619",
       "version_major": 2,
       "version_minor": 0
      },
      "text/plain": [
       "Output(layout=Layout(border='1px solid'))"
      ]
     },
     "metadata": {},
     "output_type": "display_data"
    },
    {
     "data": {
      "application/vnd.jupyter.widget-view+json": {
       "model_id": "1cdab3b4dc5542d0abbd1d5fc5da9473",
       "version_major": 2,
       "version_minor": 0
      },
      "text/plain": [
       "Output()"
      ]
     },
     "metadata": {},
     "output_type": "display_data"
    }
   ],
   "source": [
    "# imports the python module-----------------------------------------------------------------#\n",
    "nmlPython = SourceFileLoader(\"nml2jupyter_ver2.py\",\"nml2jupyter_ver2.py\").load_module()\n",
    "runner = nmlPython.nml2jupyter(path2source, fname_LEMS)\n",
    "\n",
    "trees = runner.parseNML()\n",
    "runner.generateDashboard(trees)\n",
    "\n",
    "#function to run NeuroML with given inputs and plot results----------------------------------------------#\n",
    "def runNMLmodel(b):\n",
    "    out_log.clear_output()\n",
    "    out_plot.clear_output()\n",
    "    #run neuroML (write output in dat file)\n",
    "    with out_log:\n",
    "        LEMSoption=\" -nogui\"\n",
    "        LEMS=os.path.join(path2source, fname_LEMS, LEMSoption)\n",
    "        !pynml $LEMS\n",
    "        \n",
    "    #load dat file and plot\n",
    "    with out_plot:\n",
    "        runner.plotData(fname_NML_output)\n",
    "        \n",
    "ui_widget.run_button.on_click(runNMLmodel)\n",
    "out_log = ipywidgets.Output(layout={'border': '1px solid'}) #for displaying output log from NeuroMl execution\n",
    "out_plot = ipywidgets.Output()                              #for displaying plots    \n",
    "\n",
    "display(ui_widget.run_button,out_log,out_plot)"
   ]
  },
  {
   "cell_type": "code",
   "execution_count": null,
   "id": "7f6ba8fc-d2ab-407f-a77b-2d7b62a5ae95",
   "metadata": {},
   "outputs": [],
   "source": []
  }
 ],
 "metadata": {
  "kernelspec": {
   "display_name": "Python 3 (ipykernel)",
   "language": "python",
   "name": "python3"
  },
  "language_info": {
   "codemirror_mode": {
    "name": "ipython",
    "version": 3
   },
   "file_extension": ".py",
   "mimetype": "text/x-python",
   "name": "python",
   "nbconvert_exporter": "python",
   "pygments_lexer": "ipython3",
   "version": "3.9.7"
  }
 },
 "nbformat": 4,
 "nbformat_minor": 5
}
